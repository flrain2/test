{
  "nbformat": 4,
  "nbformat_minor": 0,
  "metadata": {
    "colab": {
      "name": "GaussianNB.ipynb",
      "provenance": [],
      "collapsed_sections": [
        "alD-_jeZglsD"
      ],
      "toc_visible": true,
      "authorship_tag": "ABX9TyMqQ90EtDxKpY+Jx9lCwlRM",
      "include_colab_link": true
    },
    "kernelspec": {
      "name": "python3",
      "display_name": "Python 3"
    }
  },
  "cells": [
    {
      "cell_type": "markdown",
      "metadata": {
        "id": "view-in-github",
        "colab_type": "text"
      },
      "source": [
        "<a href=\"https://colab.research.google.com/github/flrain2/test/blob/main/GaussianNB.ipynb\" target=\"_parent\"><img src=\"https://colab.research.google.com/assets/colab-badge.svg\" alt=\"Open In Colab\"/></a>"
      ]
    },
    {
      "cell_type": "markdown",
      "metadata": {
        "id": "3c2ngwAlQ7DX"
      },
      "source": [
        "# 가우시안 나이브베이즈 모형\r\n",
        "\r\n"
      ]
    },
    {
      "cell_type": "markdown",
      "metadata": {
        "id": "alD-_jeZglsD"
      },
      "source": [
        "#### GaussianNB code: https://github.com/scikit-learn/scikit-learn/blob/95119c13a/sklearn/naive_bayes.py#L118\r\n",
        "sklearn: https://scikit-learn.org/stable/modules/generated/sklearn.naive_bayes.GaussianNB.html"
      ]
    },
    {
      "cell_type": "code",
      "metadata": {
        "id": "cAysa8CARBjn"
      },
      "source": [
        "class GaussianNB(_BaseNB):\r\n",
        "    \"\"\"\r\n",
        "    Gaussian Naive Bayes (GaussianNB)\r\n",
        "    Can perform online updates to model parameters via :meth:`partial_fit`.\r\n",
        "    For details on algorithm used to update feature means and variance online,\r\n",
        "    see Stanford CS tech report STAN-CS-79-773 by Chan, Golub, and LeVeque:\r\n",
        "        http://i.stanford.edu/pub/cstr/reports/cs/tr/79/773/CS-TR-79-773.pdf\r\n",
        "    Read more in the :ref:`User Guide <gaussian_naive_bayes>`.\r\n",
        "    Parameters\r\n",
        "    ----------\r\n",
        "    priors : array-like of shape (n_classes,)\r\n",
        "        Prior probabilities of the classes. If specified the priors are not\r\n",
        "        adjusted according to the data.\r\n",
        "    var_smoothing : float, default=1e-9\r\n",
        "        Portion of the largest variance of all features that is added to\r\n",
        "        variances for calculation stability.\r\n",
        "        .. versionadded:: 0.20\r\n",
        "    Attributes\r\n",
        "    ----------\r\n",
        "    class_count_ : ndarray of shape (n_classes,)\r\n",
        "        number of training samples observed in each class.\r\n",
        "    class_prior_ : ndarray of shape (n_classes,)\r\n",
        "        probability of each class.\r\n",
        "    classes_ : ndarray of shape (n_classes,)\r\n",
        "        class labels known to the classifier\r\n",
        "    epsilon_ : float\r\n",
        "        absolute additive value to variances\r\n",
        "    sigma_ : ndarray of shape (n_classes, n_features)\r\n",
        "        variance of each feature per class\r\n",
        "    theta_ : ndarray of shape (n_classes, n_features)\r\n",
        "        mean of each feature per class\r\n",
        "    Examples\r\n",
        "    --------\r\n",
        "    >>> import numpy as np\r\n",
        "    >>> X = np.array([[-1, -1], [-2, -1], [-3, -2], [1, 1], [2, 1], [3, 2]])\r\n",
        "    >>> Y = np.array([1, 1, 1, 2, 2, 2])\r\n",
        "    >>> from sklearn.naive_bayes import GaussianNB\r\n",
        "    >>> clf = GaussianNB()\r\n",
        "    >>> clf.fit(X, Y)\r\n",
        "    GaussianNB()\r\n",
        "    >>> print(clf.predict([[-0.8, -1]]))\r\n",
        "    [1]\r\n",
        "    >>> clf_pf = GaussianNB()\r\n",
        "    >>> clf_pf.partial_fit(X, Y, np.unique(Y))\r\n",
        "    GaussianNB()\r\n",
        "    >>> print(clf_pf.predict([[-0.8, -1]]))\r\n",
        "    [1]\r\n",
        "    \"\"\"\r\n",
        "\r\n",
        "    @_deprecate_positional_args\r\n",
        "    def __init__(self, *, priors=None, var_smoothing=1e-9):\r\n",
        "        self.priors = priors\r\n",
        "        self.var_smoothing = var_smoothing\r\n",
        "\r\n",
        "    def fit(self, X, y, sample_weight=None):\r\n",
        "        \"\"\"Fit Gaussian Naive Bayes according to X, y\r\n",
        "        Parameters\r\n",
        "        ----------\r\n",
        "        X : array-like of shape (n_samples, n_features)\r\n",
        "            Training vectors, where n_samples is the number of samples\r\n",
        "            and n_features is the number of features.\r\n",
        "        y : array-like of shape (n_samples,)\r\n",
        "            Target values.\r\n",
        "        sample_weight : array-like of shape (n_samples,), default=None\r\n",
        "            Weights applied to individual samples (1. for unweighted).\r\n",
        "            .. versionadded:: 0.17\r\n",
        "               Gaussian Naive Bayes supports fitting with *sample_weight*.\r\n",
        "        Returns\r\n",
        "        -------\r\n",
        "        self : object\r\n",
        "        \"\"\"\r\n",
        "        X, y = self._validate_data(X, y)\r\n",
        "        y = column_or_1d(y, warn=True)\r\n",
        "        return self._partial_fit(X, y, np.unique(y), _refit=True,\r\n",
        "                                 sample_weight=sample_weight)\r\n",
        "\r\n",
        "    def _check_X(self, X):\r\n",
        "        return check_array(X)\r\n",
        "\r\n",
        "    @staticmethod\r\n",
        "    def _update_mean_variance(n_past, mu, var, X, sample_weight=None):\r\n",
        "        \"\"\"Compute online update of Gaussian mean and variance.\r\n",
        "        Given starting sample count, mean, and variance, a new set of\r\n",
        "        points X, and optionally sample weights, return the updated mean and\r\n",
        "        variance. (NB - each dimension (column) in X is treated as independent\r\n",
        "        -- you get variance, not covariance).\r\n",
        "        Can take scalar mean and variance, or vector mean and variance to\r\n",
        "        simultaneously update a number of independent Gaussians.\r\n",
        "        See Stanford CS tech report STAN-CS-79-773 by Chan, Golub, and LeVeque:\r\n",
        "        http://i.stanford.edu/pub/cstr/reports/cs/tr/79/773/CS-TR-79-773.pdf\r\n",
        "        Parameters\r\n",
        "        ----------\r\n",
        "        n_past : int\r\n",
        "            Number of samples represented in old mean and variance. If sample\r\n",
        "            weights were given, this should contain the sum of sample\r\n",
        "            weights represented in old mean and variance.\r\n",
        "        mu : array-like of shape (number of Gaussians,)\r\n",
        "            Means for Gaussians in original set.\r\n",
        "        var : array-like of shape (number of Gaussians,)\r\n",
        "            Variances for Gaussians in original set.\r\n",
        "        sample_weight : array-like of shape (n_samples,), default=None\r\n",
        "            Weights applied to individual samples (1. for unweighted).\r\n",
        "        Returns\r\n",
        "        -------\r\n",
        "        total_mu : array-like of shape (number of Gaussians,)\r\n",
        "            Updated mean for each Gaussian over the combined set.\r\n",
        "        total_var : array-like of shape (number of Gaussians,)\r\n",
        "            Updated variance for each Gaussian over the combined set.\r\n",
        "        \"\"\"\r\n",
        "        if X.shape[0] == 0:\r\n",
        "            return mu, var\r\n",
        "\r\n",
        "        # Compute (potentially weighted) mean and variance of new datapoints\r\n",
        "        if sample_weight is not None:\r\n",
        "            n_new = float(sample_weight.sum())\r\n",
        "            new_mu = np.average(X, axis=0, weights=sample_weight)\r\n",
        "            new_var = np.average((X - new_mu) ** 2, axis=0,\r\n",
        "                                 weights=sample_weight)\r\n",
        "        else:\r\n",
        "            n_new = X.shape[0]\r\n",
        "            new_var = np.var(X, axis=0)\r\n",
        "            new_mu = np.mean(X, axis=0)\r\n",
        "\r\n",
        "        if n_past == 0:\r\n",
        "            return new_mu, new_var\r\n",
        "\r\n",
        "        n_total = float(n_past + n_new)\r\n",
        "\r\n",
        "        # Combine mean of old and new data, taking into consideration\r\n",
        "        # (weighted) number of observations\r\n",
        "        total_mu = (n_new * new_mu + n_past * mu) / n_total\r\n",
        "\r\n",
        "        # Combine variance of old and new data, taking into consideration\r\n",
        "        # (weighted) number of observations. This is achieved by combining\r\n",
        "        # the sum-of-squared-differences (ssd)\r\n",
        "        old_ssd = n_past * var\r\n",
        "        new_ssd = n_new * new_var\r\n",
        "        total_ssd = (old_ssd + new_ssd +\r\n",
        "                     (n_new * n_past / n_total) * (mu - new_mu) ** 2)\r\n",
        "        total_var = total_ssd / n_total\r\n",
        "\r\n",
        "        return total_mu, total_var\r\n",
        "\r\n",
        "    def partial_fit(self, X, y, classes=None, sample_weight=None):\r\n",
        "        \"\"\"Incremental fit on a batch of samples.\r\n",
        "        This method is expected to be called several times consecutively\r\n",
        "        on different chunks of a dataset so as to implement out-of-core\r\n",
        "        or online learning.\r\n",
        "        This is especially useful when the whole dataset is too big to fit in\r\n",
        "        memory at once.\r\n",
        "        This method has some performance and numerical stability overhead,\r\n",
        "        hence it is better to call partial_fit on chunks of data that are\r\n",
        "        as large as possible (as long as fitting in the memory budget) to\r\n",
        "        hide the overhead.\r\n",
        "        Parameters\r\n",
        "        ----------\r\n",
        "        X : array-like of shape (n_samples, n_features)\r\n",
        "            Training vectors, where n_samples is the number of samples and\r\n",
        "            n_features is the number of features.\r\n",
        "        y : array-like of shape (n_samples,)\r\n",
        "            Target values.\r\n",
        "        classes : array-like of shape (n_classes,), default=None\r\n",
        "            List of all the classes that can possibly appear in the y vector.\r\n",
        "            Must be provided at the first call to partial_fit, can be omitted\r\n",
        "            in subsequent calls.\r\n",
        "        sample_weight : array-like of shape (n_samples,), default=None\r\n",
        "            Weights applied to individual samples (1. for unweighted).\r\n",
        "            .. versionadded:: 0.17\r\n",
        "        Returns\r\n",
        "        -------\r\n",
        "        self : object\r\n",
        "        \"\"\"\r\n",
        "        return self._partial_fit(X, y, classes, _refit=False,\r\n",
        "                                 sample_weight=sample_weight)\r\n",
        "\r\n",
        "    def _partial_fit(self, X, y, classes=None, _refit=False,\r\n",
        "                     sample_weight=None):\r\n",
        "        \"\"\"Actual implementation of Gaussian NB fitting.\r\n",
        "        Parameters\r\n",
        "        ----------\r\n",
        "        X : array-like of shape (n_samples, n_features)\r\n",
        "            Training vectors, where n_samples is the number of samples and\r\n",
        "            n_features is the number of features.\r\n",
        "        y : array-like of shape (n_samples,)\r\n",
        "            Target values.\r\n",
        "        classes : array-like of shape (n_classes,), default=None\r\n",
        "            List of all the classes that can possibly appear in the y vector.\r\n",
        "            Must be provided at the first call to partial_fit, can be omitted\r\n",
        "            in subsequent calls.\r\n",
        "        _refit : bool, default=False\r\n",
        "            If true, act as though this were the first time we called\r\n",
        "            _partial_fit (ie, throw away any past fitting and start over).\r\n",
        "        sample_weight : array-like of shape (n_samples,), default=None\r\n",
        "            Weights applied to individual samples (1. for unweighted).\r\n",
        "        Returns\r\n",
        "        -------\r\n",
        "        self : object\r\n",
        "        \"\"\"\r\n",
        "        X, y = check_X_y(X, y)\r\n",
        "        if sample_weight is not None:\r\n",
        "            sample_weight = _check_sample_weight(sample_weight, X)\r\n",
        "\r\n",
        "        # If the ratio of data variance between dimensions is too small, it\r\n",
        "        # will cause numerical errors. To address this, we artificially\r\n",
        "        # boost the variance by epsilon, a small fraction of the standard\r\n",
        "        # deviation of the largest dimension.\r\n",
        "        self.epsilon_ = self.var_smoothing * np.var(X, axis=0).max()\r\n",
        "\r\n",
        "        if _refit:\r\n",
        "            self.classes_ = None\r\n",
        "\r\n",
        "        if _check_partial_fit_first_call(self, classes):\r\n",
        "            # This is the first call to partial_fit:\r\n",
        "            # initialize various cumulative counters\r\n",
        "            n_features = X.shape[1]\r\n",
        "            n_classes = len(self.classes_)\r\n",
        "            self.theta_ = np.zeros((n_classes, n_features))\r\n",
        "            self.sigma_ = np.zeros((n_classes, n_features))\r\n",
        "\r\n",
        "            self.class_count_ = np.zeros(n_classes, dtype=np.float64)\r\n",
        "\r\n",
        "            # Initialise the class prior\r\n",
        "            # Take into account the priors\r\n",
        "            if self.priors is not None:\r\n",
        "                priors = np.asarray(self.priors)\r\n",
        "                # Check that the provide prior match the number of classes\r\n",
        "                if len(priors) != n_classes:\r\n",
        "                    raise ValueError('Number of priors must match number of'\r\n",
        "                                     ' classes.')\r\n",
        "                # Check that the sum is 1\r\n",
        "                if not np.isclose(priors.sum(), 1.0):\r\n",
        "                    raise ValueError('The sum of the priors should be 1.')\r\n",
        "                # Check that the prior are non-negative\r\n",
        "                if (priors < 0).any():\r\n",
        "                    raise ValueError('Priors must be non-negative.')\r\n",
        "                self.class_prior_ = priors\r\n",
        "            else:\r\n",
        "                # Initialize the priors to zeros for each class\r\n",
        "                self.class_prior_ = np.zeros(len(self.classes_),\r\n",
        "                                             dtype=np.float64)\r\n",
        "        else:\r\n",
        "            if X.shape[1] != self.theta_.shape[1]:\r\n",
        "                msg = \"Number of features %d does not match previous data %d.\"\r\n",
        "                raise ValueError(msg % (X.shape[1], self.theta_.shape[1]))\r\n",
        "            # Put epsilon back in each time\r\n",
        "            self.sigma_[:, :] -= self.epsilon_\r\n",
        "\r\n",
        "        classes = self.classes_\r\n",
        "\r\n",
        "        unique_y = np.unique(y)\r\n",
        "        unique_y_in_classes = np.in1d(unique_y, classes)\r\n",
        "\r\n",
        "        if not np.all(unique_y_in_classes):\r\n",
        "            raise ValueError(\"The target label(s) %s in y do not exist in the \"\r\n",
        "                             \"initial classes %s\" %\r\n",
        "                             (unique_y[~unique_y_in_classes], classes))\r\n",
        "\r\n",
        "        for y_i in unique_y:\r\n",
        "            i = classes.searchsorted(y_i)\r\n",
        "            X_i = X[y == y_i, :]\r\n",
        "\r\n",
        "            if sample_weight is not None:\r\n",
        "                sw_i = sample_weight[y == y_i]\r\n",
        "                N_i = sw_i.sum()\r\n",
        "            else:\r\n",
        "                sw_i = None\r\n",
        "                N_i = X_i.shape[0]\r\n",
        "\r\n",
        "            new_theta, new_sigma = self._update_mean_variance(\r\n",
        "                self.class_count_[i], self.theta_[i, :], self.sigma_[i, :],\r\n",
        "                X_i, sw_i)\r\n",
        "\r\n",
        "            self.theta_[i, :] = new_theta\r\n",
        "            self.sigma_[i, :] = new_sigma\r\n",
        "            self.class_count_[i] += N_i\r\n",
        "\r\n",
        "        self.sigma_[:, :] += self.epsilon_\r\n",
        "\r\n",
        "        # Update if only no priors is provided\r\n",
        "        if self.priors is None:\r\n",
        "            # Empirical prior, with sample_weight taken into account\r\n",
        "            self.class_prior_ = self.class_count_ / self.class_count_.sum()\r\n",
        "\r\n",
        "        return self\r\n",
        "\r\n",
        "    def _joint_log_likelihood(self, X):\r\n",
        "        joint_log_likelihood = []\r\n",
        "        for i in range(np.size(self.classes_)):\r\n",
        "            jointi = np.log(self.class_prior_[i])\r\n",
        "            n_ij = - 0.5 * np.sum(np.log(2. * np.pi * self.sigma_[i, :]))\r\n",
        "            n_ij -= 0.5 * np.sum(((X - self.theta_[i, :]) ** 2) /\r\n",
        "                                 (self.sigma_[i, :]), 1)\r\n",
        "            joint_log_likelihood.append(jointi + n_ij)\r\n",
        "\r\n",
        "        joint_log_likelihood = np.array(joint_log_likelihood).T\r\n",
        "        return joint_log_likelihood\r\n",
        "\r\n",
        "\r\n",
        "_ALPHA_MIN = 1e-10\r\n"
      ],
      "execution_count": null,
      "outputs": []
    },
    {
      "cell_type": "markdown",
      "metadata": {
        "id": "_30oW5LLxttV"
      },
      "source": [
        "## 나이브 베이즈 분류모형: \r\n",
        "https://datascienceschool.net/03%20machine%20learning/11.02%20%EB%82%98%EC%9D%B4%EB%B8%8C%EB%B2%A0%EC%9D%B4%EC%A6%88%20%EB%B6%84%EB%A5%98%EB%AA%A8%ED%98%95.html"
      ]
    },
    {
      "cell_type": "markdown",
      "metadata": {
        "id": "DsMUzcaPROVv"
      },
      "source": [
        "사전 확률과 관련된 속성은 다음과 같다.\r\n",
        "\r\n",
        "- classes_  : 종속변수 Y의 클래스(라벨)\r\n",
        "\r\n",
        "- class_count_  : 종속변수 Y의 값이 특정한 클래스인 표본 데이터의 수\r\n",
        "\r\n",
        "- class_prior_  : 종속변수 Y의 무조건부 확률분포 P(Y) (정규분포의 경우에만)\r\n",
        "\r\n",
        "- class_log_prior_  : 종속변수 Y의 무조건부 확률분포의 로그 logP(Y) (베르누이분포나 다항분포의 경우에만)\r\n",
        "\r\n",
        "- theta_: 정규분포의 기댓값 μ\r\n",
        "\r\n",
        "- sigma_: 정규분포의 분산 $\\sigma^2$"
      ]
    },
    {
      "cell_type": "markdown",
      "metadata": {
        "id": "UUM2xvSFRdbU"
      },
      "source": [
        "## 예제\r\n",
        "실수인 두 개의 독립변수 x1,x2와 두 종류의 클래스 y=0,1을 가지는 분류문제가 있다.\r\n",
        "\r\n",
        "두 독립변수의 분포는 정규분포이고 y의 클래스에 따라 다음처럼 모수가 달라진다.\r\n",
        "\r\n",
        "$\\mu_0 = \\left[\\begin{array}{rrr} -2\\\\ -2 \\end{array}\\right] $ , \r\n",
        "$\\sum_0 = \\left[\\begin{array}{rrr} 1&0.9\\\\ 0.9&2 \\end{array}\\right] $\r\n",
        "\r\n",
        "$\\mu_1 = \\left[\\begin{array}{rrr} 2\\\\ 2 \\end{array}\\right] $ , \r\n",
        "$\\sum_1 = \\left[\\begin{array}{rrr} 1.2&-0.8\\\\ -0.8&2 \\end{array}\\right] $\r\n",
        "\r\n",
        "데이터는 y=0인 데이터가 40개, y=1인 데이터가 60개 주어졌다. 이 데이터를 시각화하면 다음과 같다."
      ]
    },
    {
      "cell_type": "code",
      "metadata": {
        "id": "rb7COIAqU-7l"
      },
      "source": [
        "import numpy as np\r\n",
        "import scipy as sp\r\n",
        "from scipy import stats, optimize, interpolate \r\n",
        "from matplotlib import pyplot as plt, mpl"
      ],
      "execution_count": null,
      "outputs": []
    },
    {
      "cell_type": "code",
      "metadata": {
        "colab": {
          "base_uri": "https://localhost:8080/",
          "height": 537
        },
        "id": "lLTxCUtsU1Iv",
        "outputId": "52e25334-651c-4b9f-cdfe-26786244ba6e"
      },
      "source": [
        "np.random.seed(0)\r\n",
        "# 다변량 가우시안 정규분포\r\n",
        "rv0 = sp.stats.multivariate_normal([-2, -2], [[1, 0.9], [0.9, 2]])\r\n",
        "rv1 = sp.stats.multivariate_normal([2, 2], [[1.2, -0.8], [-0.8, 2]])\r\n",
        "X0 = rv0.rvs(40)\r\n",
        "X1 = rv1.rvs(60)\r\n",
        "\r\n",
        "xx1 = np.linspace(-5, 5, 100)\r\n",
        "xx2 = np.linspace(-5, 5, 100)\r\n",
        "XX1, XX2 = np.meshgrid(xx1, xx2)\r\n",
        "\r\n",
        "fig = plt.figure(figsize=(9,9))\r\n",
        "plt.grid(False)\r\n",
        "# y=0 cycle\r\n",
        "plt.contour(XX1, XX2, rv0.pdf(np.dstack([XX1, XX2])), cmap=mpl.cm.cool)\r\n",
        "# y=1 cycle\r\n",
        "plt.contour(XX1, XX2, rv1.pdf(np.dstack([XX1, XX2])), cmap=mpl.cm.hot)\r\n",
        "plt.scatter(X0[:, 0], X0[:, 1], marker=\"o\", c='b', label=\"y=0\")\r\n",
        "plt.scatter(X1[:, 0], X1[:, 1], marker=\"s\", c='r', label=\"y=1\")\r\n",
        "\r\n",
        "plt.legend()\r\n",
        "plt.axis(\"equal\")\r\n",
        "plt.show()"
      ],
      "execution_count": null,
      "outputs": [
        {
          "output_type": "display_data",
          "data": {
            "image/png": "[encoded data removed]",
            "text/plain": [
              "<Figure size 648x648 with 1 Axes>"
            ]
          },
          "metadata": {
            "tags": [],
            "needs_background": "light"
          }
        }
      ]
    },
    {
      "cell_type": "code",
      "metadata": {
        "id": "3ABbd6GJU4PF"
      },
      "source": [
        "from sklearn.naive_bayes import GaussianNB\r\n",
        "model_norm = GaussianNB().fit(X, y)"
      ],
      "execution_count": null,
      "outputs": []
    },
    {
      "cell_type": "markdown",
      "metadata": {
        "id": "2ttusCJCXrDP"
      },
      "source": [
        "y 클래스의 종류와 각 클래스에 속하는 표본의 수, 그리고 그 값으로부터 구한 사전 확률\r\n",
        "p(y=0),p(y=1)\r\n",
        "의 값은 다음과 같다"
      ]
    },
    {
      "cell_type": "code",
      "metadata": {
        "colab": {
          "base_uri": "https://localhost:8080/"
        },
        "id": "NzXs-i43Xh_I",
        "outputId": "39de7a26-6ab0-4b45-dfac-b63f104ee412"
      },
      "source": [
        "# classes_  : 종속변수 Y의 클래스(라벨)\r\n",
        "model_norm.classes_"
      ],
      "execution_count": null,
      "outputs": [
        {
          "output_type": "execute_result",
          "data": {
            "text/plain": [
              "array([0., 1.])"
            ]
          },
          "metadata": {
            "tags": []
          },
          "execution_count": 13
        }
      ]
    },
    {
      "cell_type": "code",
      "metadata": {
        "colab": {
          "base_uri": "https://localhost:8080/"
        },
        "id": "lcZmAeevXliR",
        "outputId": "08636e94-4f84-4e2f-c646-7a75ab1f7728"
      },
      "source": [
        "# class_count_  : 종속변수 Y의 값이 특정한 클래스인 표본 데이터의 수\r\n",
        "model_norm.class_count_"
      ],
      "execution_count": null,
      "outputs": [
        {
          "output_type": "execute_result",
          "data": {
            "text/plain": [
              "array([40., 60.])"
            ]
          },
          "metadata": {
            "tags": []
          },
          "execution_count": 14
        }
      ]
    },
    {
      "cell_type": "code",
      "metadata": {
        "colab": {
          "base_uri": "https://localhost:8080/"
        },
        "id": "2uQ3gPgqXnA5",
        "outputId": "14176787-f074-459b-b821-2107e54a603a"
      },
      "source": [
        "# class_prior_  : 종속변수 Y의 무조건부 확률분포 P(Y) (정규분포의 경우에만)\r\n",
        "model_norm.class_prior_"
      ],
      "execution_count": null,
      "outputs": [
        {
          "output_type": "execute_result",
          "data": {
            "text/plain": [
              "array([0.4, 0.6])"
            ]
          },
          "metadata": {
            "tags": []
          },
          "execution_count": 15
        }
      ]
    },
    {
      "cell_type": "markdown",
      "metadata": {
        "id": "_UNy2a-4Xomw"
      },
      "source": [
        "각 클래스에 따라 x가 이루는 확률분포의 모수를 계산하면 다음과 같다. 나이브 가정에 따라 x1,x2는 독립이므로 상관관계를 구하지 않았다."
      ]
    },
    {
      "cell_type": "code",
      "metadata": {
        "colab": {
          "base_uri": "https://localhost:8080/"
        },
        "id": "UNO8jqbLYAmy",
        "outputId": "8df1c9fa-3bbd-4dcf-8639-26332de673f7"
      },
      "source": [
        "# theta_: 정규분포의 기댓값 μ\r\n",
        "# sigma_: 정규분포의 분산 sigma^2\r\n",
        "model_norm.theta_[0], model_norm.sigma_[0]"
      ],
      "execution_count": null,
      "outputs": [
        {
          "output_type": "execute_result",
          "data": {
            "text/plain": [
              "(array([-1.96197643, -2.00597903]), array([1.02398854, 2.31390497]))"
            ]
          },
          "metadata": {
            "tags": []
          },
          "execution_count": 32
        }
      ]
    },
    {
      "cell_type": "code",
      "metadata": {
        "colab": {
          "base_uri": "https://localhost:8080/"
        },
        "id": "nqAaiTq8YDqI",
        "outputId": "7aa6f482-8180-4881-f648-ee98b61de891"
      },
      "source": [
        "model_norm.theta_[1], model_norm.sigma_[1]"
      ],
      "execution_count": null,
      "outputs": [
        {
          "output_type": "execute_result",
          "data": {
            "text/plain": [
              "(array([2.19130701, 2.12626716]), array([1.25429371, 1.93742544]))"
            ]
          },
          "metadata": {
            "tags": []
          },
          "execution_count": 33
        }
      ]
    },
    {
      "cell_type": "code",
      "metadata": {
        "colab": {
          "base_uri": "https://localhost:8080/",
          "height": 537
        },
        "id": "9BXauksXYMwr",
        "outputId": "e4939565-6098-4e38-db45-a035ceef6020"
      },
      "source": [
        "rv0 = sp.stats.multivariate_normal(model_norm.theta_[0], model_norm.sigma_[0])\r\n",
        "rv1 = sp.stats.multivariate_normal(model_norm.theta_[1], model_norm.sigma_[1])\r\n",
        "\r\n",
        "xx1 = np.linspace(-5, 5, 100)\r\n",
        "xx2 = np.linspace(-5, 5, 100)\r\n",
        "XX1, XX2 = np.meshgrid(xx1, xx2)\r\n",
        "\r\n",
        "plt.figure(figsize=(9,9))\r\n",
        "plt.grid(False)\r\n",
        "plt.contour(XX1, XX2, rv0.pdf(np.dstack([XX1, XX2])), cmap=mpl.cm.cool)\r\n",
        "plt.contour(XX1, XX2, rv1.pdf(np.dstack([XX1, XX2])), cmap=mpl.cm.hot)\r\n",
        "plt.scatter(X0[:, 0], X0[:, 1], marker=\"o\", c='b', label=\"y=0\")\r\n",
        "plt.scatter(X1[:, 0], X1[:, 1], marker=\"s\", c='r', label=\"y=1\")\r\n",
        "\r\n",
        "x_new = [0, 0]\r\n",
        "plt.scatter(x_new[0], x_new[1], c=\"g\", marker=\"x\", s=150, linewidth=5)\r\n",
        "plt.legend()\r\n",
        "plt.axis(\"equal\")\r\n",
        "plt.show()"
      ],
      "execution_count": null,
      "outputs": [
        {
          "output_type": "display_data",
          "data": {
            "image/png": "[encoded data removed]",
            "text/plain": [
              "<Figure size 648x648 with 1 Axes>"
            ]
          },
          "metadata": {
            "tags": [],
            "needs_background": "light"
          }
        }
      ]
    },
    {
      "cell_type": "markdown",
      "metadata": {
        "id": "lc0w-FVkYtGv"
      },
      "source": [
        "이 모형을 사용하여 x_new=(0,0)인 데이터의 y값을 예측하자. 각 클래스값이 나올 확률은 predict_proba 메서드로 구할 수 있다. 결과는 y=0일 확률이 0.48, y=1일 확률이 0.52이다."
      ]
    },
    {
      "cell_type": "code",
      "metadata": {
        "colab": {
          "base_uri": "https://localhost:8080/"
        },
        "id": "BwgckCevbR4O",
        "outputId": "faa9b6e7-ce18-4bf7-8282-ede71bb516e7"
      },
      "source": [
        "model_norm.predict_proba([x_new])"
      ],
      "execution_count": null,
      "outputs": [
        {
          "output_type": "execute_result",
          "data": {
            "text/plain": [
              "array([[0.48475244, 0.51524756]])"
            ]
          },
          "metadata": {
            "tags": []
          },
          "execution_count": 21
        }
      ]
    },
    {
      "cell_type": "markdown",
      "metadata": {
        "id": "55VVNs0nbW6r"
      },
      "source": [
        "이 값이 나오게 된 중간 과정을 살펴보자. 우선 추정된 독립변수의 모수와 정규 분포의 확률 밀도 함수를 사용하여 가능도를 구할 수 있다. 나이브베이즈 가정에 따라 두 입력 변수의 곱을 결합 확률로 계산한다.\r\n",
        "\r\n",
        "$ p(x_1,x_2|y)∝p(x_1)p(x_2) $"
      ]
    },
    {
      "cell_type": "code",
      "metadata": {
        "colab": {
          "base_uri": "https://localhost:8080/"
        },
        "id": "6uITZgGudhWa",
        "outputId": "18ac6ff8-dce7-468e-fabc-27db54a1490d"
      },
      "source": [
        "likelihood = [\r\n",
        "    (sp.stats.norm(model_norm.theta_[0][0], np.sqrt(model_norm.sigma_[0][0])).pdf(x_new[0]) * \r\n",
        "     sp.stats.norm(model_norm.theta_[0][1], np.sqrt(model_norm.sigma_[0][1])).pdf(x_new[1])),\r\n",
        "    (sp.stats.norm(model_norm.theta_[1][0], np.sqrt(model_norm.sigma_[1][0])).pdf(x_new[0]) * \r\n",
        "     sp.stats.norm(model_norm.theta_[1][1], np.sqrt(model_norm.sigma_[1][1])).pdf(x_new[1])),\r\n",
        "]\r\n",
        "likelihood"
      ],
      "execution_count": null,
      "outputs": [
        {
          "output_type": "execute_result",
          "data": {
            "text/plain": [
              "[0.006615760017637307, 0.004687965595148289]"
            ]
          },
          "metadata": {
            "tags": []
          },
          "execution_count": 41
        }
      ]
    },
    {
      "cell_type": "markdown",
      "metadata": {
        "id": "8nHmWiNydrk0"
      },
      "source": [
        "여기에 사전 확률을 곱하면 사후 확률에 비례하는 값이 나온다.\r\n",
        "\r\n",
        "$ p(y|x_1,x_2)∝p(x_1,x_2|y)p(y) $\r\n",
        "\r\n",
        "아직 정규화 상수 p(x)로 나누어주지 않았으므로 두 값의 합이 1이 아니다. 즉, 확률이라고 부를 수는 없다. 하지만 크기를 비교하면 y=0일 확률이 y=1일 확률보다 훨씬 크다는 것을 알 수 있다."
      ]
    },
    {
      "cell_type": "code",
      "metadata": {
        "colab": {
          "base_uri": "https://localhost:8080/"
        },
        "id": "-O0GyjxJeq-w",
        "outputId": "eedfa9b1-b55b-4ed0-c38f-65c0cec3e597"
      },
      "source": [
        "posterior = likelihood * model_norm.class_prior_\r\n",
        "print(posterior)"
      ],
      "execution_count": null,
      "outputs": [
        {
          "output_type": "stream",
          "text": [
            "[0.0026463  0.00281278]\n"
          ],
          "name": "stdout"
        }
      ]
    },
    {
      "cell_type": "markdown",
      "metadata": {
        "id": "I7bgpPcBesYG"
      },
      "source": [
        "이 값을 정규화하면 predict_proba 메서드로 구한 것과 같은 값이 나온다."
      ]
    },
    {
      "cell_type": "code",
      "metadata": {
        "colab": {
          "base_uri": "https://localhost:8080/"
        },
        "id": "3cWEe8lRevDa",
        "outputId": "513973f1-695e-436e-e0ae-6f070bf1dd21"
      },
      "source": [
        "posterior / posterior.sum()"
      ],
      "execution_count": null,
      "outputs": [
        {
          "output_type": "execute_result",
          "data": {
            "text/plain": [
              "array([0.48475244, 0.51524756])"
            ]
          },
          "metadata": {
            "tags": []
          },
          "execution_count": 43
        }
      ]
    },
    {
      "cell_type": "markdown",
      "metadata": {
        "id": "qWxhnMYie0zK"
      },
      "source": [
        "# Spam filter"
      ]
    },
    {
      "cell_type": "code",
      "metadata": {
        "colab": {
          "base_uri": "https://localhost:8080/"
        },
        "id": "VJ_qO8ExfDCP",
        "outputId": "c8f6bfff-3f6b-41d7-a165-6b0e0c0ac926"
      },
      "source": [
        "from google.colab import drive\r\n",
        "drive.mount('/content/drive')"
      ],
      "execution_count": null,
      "outputs": [
        {
          "output_type": "stream",
          "text": [
            "Mounted at /content/drive\n"
          ],
          "name": "stdout"
        }
      ]
    },
    {
      "cell_type": "code",
      "metadata": {
        "id": "sze2FwA5fJJC"
      },
      "source": [
        "import numpy as np\r\n",
        "import pandas as pd\r\n",
        "%matplotlib inline\r\n",
        "import matplotlib.pyplot as plt\r\n",
        "import urllib.request\r\n",
        "from tensorflow.keras.preprocessing.text import Tokenizer\r\n",
        "from tensorflow.keras.preprocessing.sequence import pad_sequences \r\n",
        "\r\n",
        "from sklearn.naive_bayes import GaussianNB, BernoulliNB, MultinomialNB\r\n",
        "from sklearn.model_selection import train_test_split\r\n",
        "from sklearn.metrics import accuracy_score, confusion_matrix\r\n",
        "from sklearn.feature_extraction.text import TfidfVectorizer, CountVectorizer\r\n",
        "from sklearn.feature_selection import SelectPercentile"
      ],
      "execution_count": null,
      "outputs": []
    },
    {
      "cell_type": "code",
      "metadata": {
        "id": "Zl_WEs2QfMnr"
      },
      "source": [
        "filename = '/content/drive/MyDrive/Colab Notebooks/spam.csv'"
      ],
      "execution_count": null,
      "outputs": []
    },
    {
      "cell_type": "code",
      "metadata": {
        "colab": {
          "base_uri": "https://localhost:8080/"
        },
        "id": "7xjHqiLafwLu",
        "outputId": "8ab741a2-df8a-41d1-fb94-5e2bf050c439"
      },
      "source": [
        "sms_spam= pd.read_csv(filename, encoding='latin1')\r\n",
        "sms_spam['v2']"
      ],
      "execution_count": null,
      "outputs": [
        {
          "output_type": "execute_result",
          "data": {
            "text/plain": [
              "0       Go until jurong point, crazy.. Available only ...\n",
              "1                           Ok lar... Joking wif u oni...\n",
              "2       Free entry in 2 a wkly comp to win FA Cup fina...\n",
              "3       U dun say so early hor... U c already then say...\n",
              "4       Nah I don't think he goes to usf, he lives aro...\n",
              "                              ...                        \n",
              "5567    This is the 2nd time we have tried 2 contact u...\n",
              "5568                Will Ì_ b going to esplanade fr home?\n",
              "5569    Pity, * was in mood for that. So...any other s...\n",
              "5570    The guy did some bitching but I acted like i'd...\n",
              "5571                           Rofl. Its true to its name\n",
              "Name: v2, Length: 5572, dtype: object"
            ]
          },
          "metadata": {
            "tags": []
          },
          "execution_count": 4
        }
      ]
    },
    {
      "cell_type": "code",
      "metadata": {
        "id": "zwABMqQcfOob"
      },
      "source": [
        "# Unnamed 2,3,4 delete\r\n",
        "del sms_spam['Unnamed: 2']\r\n",
        "del sms_spam['Unnamed: 3']\r\n",
        "del sms_spam['Unnamed: 4']\r\n",
        "\r\n",
        "sms_spam.columns = ['Label','SMS']\r\n"
      ],
      "execution_count": null,
      "outputs": []
    },
    {
      "cell_type": "code",
      "metadata": {
        "id": "fKt8r95Of0hi"
      },
      "source": [
        "SMS_set = sms_spam['SMS'].str.replace('\\W', ' ') # Removes punctuation\r\n",
        "SMS_set = SMS_set.str.lower() # 소문자로 변환\r\n",
        "spam_set = pd.concat([sms_spam['Label'], SMS_set], axis=1)"
      ],
      "execution_count": null,
      "outputs": []
    },
    {
      "cell_type": "code",
      "metadata": {
        "id": "Z6TtmZgfoYre"
      },
      "source": [
        "X = spam_set['SMS']\r\n",
        "y = spam_set['Label']\r\n",
        "\r\n",
        "X3 = X[:3]\r\n",
        "y3 = y[:3]"
      ],
      "execution_count": null,
      "outputs": []
    },
    {
      "cell_type": "code",
      "metadata": {
        "colab": {
          "base_uri": "https://localhost:8080/"
        },
        "id": "e8JnKjbPO_DO",
        "outputId": "7364a215-8b0d-48a2-ae38-0449f12b472c"
      },
      "source": [
        "X3"
      ],
      "execution_count": null,
      "outputs": [
        {
          "output_type": "execute_result",
          "data": {
            "text/plain": [
              "0    go until jurong point  crazy   available only ...\n",
              "1                        ok lar    joking wif u oni   \n",
              "2    free entry in 2 a wkly comp to win fa cup fina...\n",
              "Name: SMS, dtype: object"
            ]
          },
          "metadata": {
            "tags": []
          },
          "execution_count": 21
        }
      ]
    },
    {
      "cell_type": "code",
      "metadata": {
        "colab": {
          "base_uri": "https://localhost:8080/"
        },
        "id": "j09WC8CDPCPk",
        "outputId": "035ab590-e6fc-488a-c7d5-2dde427ca408"
      },
      "source": [
        "y3"
      ],
      "execution_count": null,
      "outputs": [
        {
          "output_type": "execute_result",
          "data": {
            "text/plain": [
              "0     ham\n",
              "1     ham\n",
              "2    spam\n",
              "Name: Label, dtype: object"
            ]
          },
          "metadata": {
            "tags": []
          },
          "execution_count": 22
        }
      ]
    },
    {
      "cell_type": "markdown",
      "metadata": {
        "id": "ENjDdLJuoeV-"
      },
      "source": [
        "## Sckit-learn vector\r\n",
        "\r\n",
        "참고자료: 머신러닝교과서 with 파이썬, 사이킷런, 텐서플로\r\n",
        "1. BOW(Bag Of Word)\r\n",
        "- 전체 문서에 대해 고유한 토큰, 예를 들어 단어로 이루어진 어휘사전을 만듦\r\n",
        "- 특정 문서에 각 단어가 얼마나 자주 등장하는지 헤아려 문서의 특성 벡터를 만듦\r\n",
        "2. CountVectorizer: 문서 집합(문서 리스트)에서 단어 토큰을 생성하고 각 단어의 수를 세어 BOW 기반으로 벡터를 만든다.(각 문서에서 토큰의 출현 빈도 카운트 및 BOW 인코딩 벡터로 변환)\r\n",
        "\r\n",
        "- 문서 d에 등장한 단어 t의 횟수를 tf(t,d)처럼 같이 쓴다.\r\n",
        "3. TfidVectorizer: TF-IDF 방식으로 단어의 가중치를 조정한 BOW 벡터를 만든다. TFIDF를 이용하면 많은 문서에 등장하는 단어는 비중이 작아지고, 특정 문서군에서만 등장하는 단어는 비중이 높아진다."
      ]
    },
    {
      "cell_type": "markdown",
      "metadata": {
        "id": "vx9q3w8dt6tP"
      },
      "source": [
        "#### countVectorizer example"
      ]
    },
    {
      "cell_type": "code",
      "metadata": {
        "colab": {
          "base_uri": "https://localhost:8080/"
        },
        "id": "NUzE_qIdor-P",
        "outputId": "09b0fe71-a20d-4c49-ba66-48165e79b93e"
      },
      "source": [
        "vectorizer = CountVectorizer()\r\n",
        "docs = np.array(['The sun is shining','The weather is sweet','The sun is shining, the weather is sweet, and one and one is two'])\r\n",
        "bags = vectorizer.fit_transform(docs)\r\n",
        "print(vectorizer.vocabulary_)\r\n",
        "print(bags.toarray())"
      ],
      "execution_count": null,
      "outputs": [
        {
          "output_type": "stream",
          "text": [
            "{'the': 6, 'sun': 4, 'is': 1, 'shining': 3, 'weather': 8, 'sweet': 5, 'and': 0, 'one': 2, 'two': 7}\n",
            "[[0 1 0 1 1 0 1 0 0]\n",
            " [0 1 0 0 0 1 1 0 1]\n",
            " [2 3 2 1 1 1 2 1 1]]\n"
          ],
          "name": "stdout"
        }
      ]
    },
    {
      "cell_type": "markdown",
      "metadata": {
        "id": "OzUrsJNawJhC"
      },
      "source": [
        "n-gram: NLP에서 연속된 아이템(단어, 문자, 기호)의 시퀀스\r\n",
        "기본 1-그램으로 구성되어 있음\r\n",
        "\r\n",
        "1-gram: 'the', 'sun', 'is', 'shining'\r\n",
        "\r\n",
        "2-gram: 'the sun', 'sun is', 'is shining'"
      ]
    },
    {
      "cell_type": "code",
      "metadata": {
        "colab": {
          "base_uri": "https://localhost:8080/"
        },
        "id": "898eLE1bxeZA",
        "outputId": "67a39a88-98e6-4939-d2c6-d787a18664e2"
      },
      "source": [
        "vectorizer = CountVectorizer(ngram_range=(2,2))\r\n",
        "docs = np.array(['The sun is shining','The weather is sweet','The sun is shining, the weather is sweet, and one and one is two'])\r\n",
        "bags = vectorizer.fit_transform(docs)\r\n",
        "print(vectorizer.vocabulary_)\r\n",
        "print(bags.toarray())"
      ],
      "execution_count": null,
      "outputs": [
        {
          "output_type": "stream",
          "text": [
            "{'the sun': 9, 'sun is': 7, 'is shining': 1, 'the weather': 10, 'weather is': 11, 'is sweet': 2, 'shining the': 6, 'sweet and': 8, 'and one': 0, 'one and': 4, 'one is': 5, 'is two': 3}\n",
            "[[0 1 0 0 0 0 0 1 0 1 0 0]\n",
            " [0 0 1 0 0 0 0 0 0 0 1 1]\n",
            " [2 1 1 1 1 1 1 1 1 1 1 1]]\n"
          ],
          "name": "stdout"
        }
      ]
    },
    {
      "cell_type": "markdown",
      "metadata": {
        "id": "BokK6xHsjDQM"
      },
      "source": [
        "#### tf-idf(term frequency-inverse document frequency)\r\n",
        "\r\n",
        "일반적으로 자주 등장하는 단어는 판별에 필요한 정보를 가지고 있지 않는다. tf-idf는 특성 벡터에서 자주 등장하는 단어의 가중치를 낮추는 기법으로 단어 빈도와 역문서 빈도의 곱으로 정의된다.\r\n",
        "\r\n",
        "tf-idf(t,d) = tf(t,d)*idf(t,d)\r\n",
        "\r\n",
        "- 역문서 빈도\r\n",
        "\r\n",
        "  idf(t,d) = log $\\frac {n_d} {1+df(d,t)}$\r\n",
        "  - $n_d$: 전체 문서 개수\r\n",
        "  - df(d,t): 단어t가 포함된 문서 d의 개수\r\n",
        "  - 분모 상수 1: 훈련 샘플에 한 번도 등장하지 않는 단어가 있는 경우 분모가 0이 되지 않게 만듦\r\n",
        "  - log: 문서빈도 df(d,t)가 낮을 때 역문서 빈도 값이 너무 커지지 않도록 만듦"
      ]
    },
    {
      "cell_type": "code",
      "metadata": {
        "colab": {
          "base_uri": "https://localhost:8080/"
        },
        "id": "i3QSPgADyrtT",
        "outputId": "40f7d8ab-20fc-4d21-b2f2-39208ee7327f"
      },
      "source": [
        "vectorizer = TfidfVectorizer()\r\n",
        "Tfid = vectorizer.fit_transform(docs)\r\n",
        "#소수점 둘째자리까지 표시\r\n",
        "np.set_printoptions(precision=2)\r\n",
        "print(vectorizer.vocabulary_)\r\n",
        "print(Tfid.toarray())"
      ],
      "execution_count": null,
      "outputs": [
        {
          "output_type": "stream",
          "text": [
            "{'the': 6, 'sun': 4, 'is': 1, 'shining': 3, 'weather': 8, 'sweet': 5, 'and': 0, 'one': 2, 'two': 7}\n",
            "[[0.   0.43 0.   0.56 0.56 0.   0.43 0.   0.  ]\n",
            " [0.   0.43 0.   0.   0.   0.56 0.43 0.   0.56]\n",
            " [0.5  0.45 0.5  0.19 0.19 0.19 0.3  0.25 0.19]]\n"
          ],
          "name": "stdout"
        }
      ]
    },
    {
      "cell_type": "markdown",
      "metadata": {
        "id": "nGqdqWpmtaB5"
      },
      "source": [
        "'and': 0,  'is': 1,  'one': 2,  'shining': 3,  'sun': 4,  'sweet': 5,  'the': 6,  'two': 7,  'weather': 8}\r\n",
        "\r\n",
        "- count vector\r\n",
        "\r\n",
        "[0 1 0 1 1 0 1 0 0]\r\n",
        "\r\n",
        " [0 1 0 0 0 1 1 0 1]\r\n",
        "\r\n",
        " [2 3 2 1 1 1 2 1 1]\r\n",
        "\r\n",
        " - tf-idf\r\n",
        "\r\n",
        "[0.   0.43 0.   0.56 0.56 0.   0.43 0.   0.  ]\r\n",
        "\r\n",
        " [0.   0.43 0.   0.   0.   0.56 0.43 0.   0.56]\r\n",
        "\r\n",
        " [0.5  0.45 0.5  0.19 0.19 0.19 0.3  0.25 0.19]"
      ]
    },
    {
      "cell_type": "markdown",
      "metadata": {
        "id": "xgmERzBSwHpo"
      },
      "source": [
        "**사이킷런** \r\n",
        "\r\n",
        "- 역빈도 공식\r\n",
        "\r\n",
        "  idf(t,d) = log $\\frac {1+n_d} {1+df(d,t)}$\r\n",
        "\r\n",
        "- tf-idf공식\r\n",
        "\r\n",
        "  tf-idf(t,d) = tf(t,d)*(idf(t,d)+1)\r\n",
        "\r\n",
        "- 정규화 L2\r\n",
        "\r\n",
        "  TfidfVectorizer는 기본적으로 L2정규화를 적용함\r\n",
        "\r\n",
        "- 예제: 세번째 문서 'is'\r\n",
        "  - 단어 빈도 3 (tf=3)\r\n",
        "  - 세개의 문서에 모두 나타나기 때문에 문서 빈도 3 (df=3)\r\n",
        "  - 역문서 빈도: idf('is', d3) = log$\\frac {1+3} {1+3}$ = 0\r\n",
        "  - tf-idf('is',d3) = 3*(0+1) = 3\r\n",
        "\r\n",
        "- 세번째 문서에 있는 모든 단어를 위와 같이 계산해보면 다음과 같음\r\n",
        "\r\n",
        "  tf-idf = [3.39, 3.0, 3.39, 1.29, 1.29, 1.29, 2.0, 1.69, 1.29]\r\n",
        "\r\n",
        "- L2-정규화 과정 적용\r\n",
        "\r\n",
        "  $tf-idf(d3)_{norm} = \\frac {[3.39, 3.0, 3.39, 1.29, 1.29, 1.29, 2.0, 1.69, 1.29]} {\\sqrt {3.39^2+3.0^2+ 3.39^2+ 1.29^2+ 1.29^2+ 1.29^2+ 2.0^2+ 1.69^2+ 1.29^2}}$ \r\n",
        "  \r\n",
        "  = [0.5 0.45 0.5 0.19 0.19 0.19 0.3 0.25 0.19]\r\n",
        "\r\n",
        "  따라서, tf-idf('is'.d3) = 0.45가 됨\r\n"
      ]
    },
    {
      "cell_type": "markdown",
      "metadata": {
        "id": "C6wwxEq0t8XN"
      },
      "source": [
        "**정규화 L1, L2**\r\n",
        "\r\n",
        "ridge&lasso: https://mole-starseeker.tistory.com/34"
      ]
    },
    {
      "cell_type": "markdown",
      "metadata": {
        "id": "jfrwznzYuz6a"
      },
      "source": [
        "#### CountVectorizer"
      ]
    },
    {
      "cell_type": "code",
      "metadata": {
        "colab": {
          "base_uri": "https://localhost:8080/"
        },
        "id": "jIbKL-6_t4cF",
        "outputId": "fa2a6444-fe18-485b-a1dd-f5eb9056fd3c"
      },
      "source": [
        "vectorizer = CountVectorizer()\r\n",
        "count_X = vectorizer.fit_transform(X3)\r\n",
        "print(vectorizer.vocabulary_)\r\n",
        "print(count_X.toarray())"
      ],
      "execution_count": null,
      "outputs": [
        {
          "output_type": "stream",
          "text": [
            "{'go': 17, 'until': 39, 'jurong': 22, 'point': 29, 'crazy': 11, 'available': 6, 'only': 28, 'in': 20, 'bugis': 8, 'great': 19, 'world': 44, 'la': 23, 'buffet': 7, 'cine': 9, 'there': 35, 'got': 18, 'amore': 4, 'wat': 40, 'ok': 26, 'lar': 24, 'joking': 21, 'wif': 41, 'oni': 27, 'free': 16, 'entry': 13, 'wkly': 43, 'comp': 10, 'to': 37, 'win': 42, 'fa': 14, 'cup': 12, 'final': 15, 'tkts': 36, '21st': 2, 'may': 25, '2005': 1, 'text': 34, '87121': 3, 'receive': 32, 'question': 30, 'std': 33, 'txt': 38, 'rate': 31, 'apply': 5, '08452810075over18': 0}\n",
            "[[0 0 0 0 1 0 1 1 1 1 0 1 0 0 0 0 0 1 1 1 1 0 1 1 0 0 0 0 1 1 0 0 0 0 0 1\n",
            "  0 0 0 1 1 0 0 0 1]\n",
            " [0 0 0 0 0 0 0 0 0 0 0 0 0 0 0 0 0 0 0 0 0 1 0 0 1 0 1 1 0 0 0 0 0 0 0 0\n",
            "  0 0 0 0 0 1 0 0 0]\n",
            " [1 1 1 1 0 1 0 0 0 0 1 0 1 2 2 1 1 0 0 0 1 0 0 0 0 1 0 0 0 0 1 1 1 1 1 0\n",
            "  1 3 1 0 0 0 1 1 0]]\n"
          ],
          "name": "stdout"
        }
      ]
    },
    {
      "cell_type": "code",
      "metadata": {
        "colab": {
          "base_uri": "https://localhost:8080/"
        },
        "id": "GPTGy4eouI5p",
        "outputId": "2a94d9fb-ce30-444b-dfb4-cdb8e14c3a7f"
      },
      "source": [
        "count_nb = GaussianNB()\r\n",
        "\r\n",
        "count_nb.fit(count_X,y3)"
      ],
      "execution_count": null,
      "outputs": [
        {
          "output_type": "execute_result",
          "data": {
            "text/plain": [
              "GaussianNB(priors=None, var_smoothing=1e-09)"
            ]
          },
          "metadata": {
            "tags": []
          },
          "execution_count": 76
        }
      ]
    },
    {
      "cell_type": "code",
      "metadata": {
        "colab": {
          "base_uri": "https://localhost:8080/"
        },
        "id": "i1PA8KaiuLl1",
        "outputId": "6951f5b7-1c93-4173-b4f3-ed8379970aba"
      },
      "source": [
        "count_nb.class_prior_"
      ],
      "execution_count": null,
      "outputs": [
        {
          "output_type": "execute_result",
          "data": {
            "text/plain": [
              "array([0.66666667, 0.33333333])"
            ]
          },
          "metadata": {
            "tags": []
          },
          "execution_count": 77
        }
      ]
    },
    {
      "cell_type": "markdown",
      "metadata": {
        "id": "0_BGXoJ6uTjZ"
      },
      "source": [
        "#### TfidVectorizer"
      ]
    },
    {
      "cell_type": "code",
      "metadata": {
        "id": "-FbBuA9MsOHx",
        "colab": {
          "base_uri": "https://localhost:8080/"
        },
        "outputId": "7bb52769-496e-4f51-b72f-5f5bd8442ec5"
      },
      "source": [
        "vectorizer = TfidfVectorizer()\r\n",
        "Tfid_X = vectorizer.fit_transform(X3).toarray()\r\n",
        "print(Tfid_X)"
      ],
      "execution_count": null,
      "outputs": [
        {
          "output_type": "stream",
          "text": [
            "[[0.         0.         0.         0.         0.23851206 0.\n",
            "  0.23851206 0.23851206 0.23851206 0.23851206 0.         0.23851206\n",
            "  0.         0.         0.         0.         0.         0.23851206\n",
            "  0.23851206 0.23851206 0.18139457 0.         0.23851206 0.23851206\n",
            "  0.         0.         0.         0.         0.23851206 0.23851206\n",
            "  0.         0.         0.         0.         0.         0.23851206\n",
            "  0.         0.         0.         0.23851206 0.23851206 0.\n",
            "  0.         0.         0.23851206]\n",
            " [0.         0.         0.         0.         0.         0.\n",
            "  0.         0.         0.         0.         0.         0.\n",
            "  0.         0.         0.         0.         0.         0.\n",
            "  0.         0.         0.         0.4472136  0.         0.\n",
            "  0.4472136  0.         0.4472136  0.4472136  0.         0.\n",
            "  0.         0.         0.         0.         0.         0.\n",
            "  0.         0.         0.         0.         0.         0.4472136\n",
            "  0.         0.         0.        ]\n",
            " [0.1653437  0.1653437  0.1653437  0.1653437  0.         0.1653437\n",
            "  0.         0.         0.         0.         0.1653437  0.\n",
            "  0.1653437  0.3306874  0.3306874  0.1653437  0.1653437  0.\n",
            "  0.         0.         0.12574815 0.         0.         0.\n",
            "  0.         0.1653437  0.         0.         0.         0.\n",
            "  0.1653437  0.1653437  0.1653437  0.1653437  0.1653437  0.\n",
            "  0.1653437  0.4960311  0.1653437  0.         0.         0.\n",
            "  0.1653437  0.1653437  0.        ]]\n"
          ],
          "name": "stdout"
        }
      ]
    },
    {
      "cell_type": "code",
      "metadata": {
        "id": "bGXCeUqAsPWa",
        "colab": {
          "base_uri": "https://localhost:8080/"
        },
        "outputId": "49ade7f6-c6f5-4be8-eca1-af255d7f6454"
      },
      "source": [
        "Tfid_nb = GaussianNB()\r\n",
        "\r\n",
        "Tfid_nb.fit(Tfid_X,y3)"
      ],
      "execution_count": null,
      "outputs": [
        {
          "output_type": "execute_result",
          "data": {
            "text/plain": [
              "GaussianNB(priors=None, var_smoothing=1e-09)"
            ]
          },
          "metadata": {
            "tags": []
          },
          "execution_count": 79
        }
      ]
    },
    {
      "cell_type": "code",
      "metadata": {
        "id": "3P3KJsECsPZl",
        "colab": {
          "base_uri": "https://localhost:8080/"
        },
        "outputId": "8639f2e3-eec1-4dd6-ed28-98f2e7fdc4f6"
      },
      "source": [
        "Tfid_nb.class_prior_"
      ],
      "execution_count": null,
      "outputs": [
        {
          "output_type": "execute_result",
          "data": {
            "text/plain": [
              "array([0.66666667, 0.33333333])"
            ]
          },
          "metadata": {
            "tags": []
          },
          "execution_count": 80
        }
      ]
    },
    {
      "cell_type": "markdown",
      "metadata": {
        "id": "bQM-0YNNqlwn"
      },
      "source": [
        "#### TfidVectorizer + SelectPercentile\r\n",
        "- 너무 많은 feature는 오버피팅의 원인이 됨으로 필요한 feature를 선택\r\n",
        "- 최적의 feature를 선택하기 위해 Chi square, F-test, ANOVA 등의 통계 모델을 사용"
      ]
    },
    {
      "cell_type": "code",
      "metadata": {
        "id": "0XEfShcQgTEA"
      },
      "source": [
        "vectorizer = TfidfVectorizer()"
      ],
      "execution_count": null,
      "outputs": []
    },
    {
      "cell_type": "code",
      "metadata": {
        "id": "uzf43kMQgVqH"
      },
      "source": [
        "X_transformed = vectorizer.fit_transform(X3)"
      ],
      "execution_count": null,
      "outputs": []
    },
    {
      "cell_type": "markdown",
      "metadata": {
        "id": "cT8JuUfrp3oO"
      },
      "source": [
        "scikit-learn에서 univariate로 특성을 선택하려면 \r\n",
        "\r\n",
        "1. 분류에는 f_classif(default)를, 회귀에서는 f_regression을  선택하여 테스트\r\n",
        "\r\n",
        "2. 계산한 p-value에 기초하여 특성을 제외하는 방식을 선택. \r\n",
        "\r\n",
        "\r\n",
        "\r\n",
        "이런 방식들은 매우 높은 p-value를 가진(target값과 연관성이 적은) 특성을 제외할 수 있도록 critical value를 조정하는 parameter를 사용\r\n",
        "\r\n",
        "critical value를 계산하는 방법중 하나인 SelectKBest는 고정된 k개의 특성을 선택하고 SelectPercentile은 지정된 비율만큼 특성을 선택"
      ]
    },
    {
      "cell_type": "code",
      "metadata": {
        "colab": {
          "base_uri": "https://localhost:8080/"
        },
        "id": "8IbFNP8ogYBb",
        "outputId": "52eaf30d-a9fd-4fa5-d839-bec89abd67c6"
      },
      "source": [
        "selector = SelectPercentile(percentile=5)\r\n",
        "selector"
      ],
      "execution_count": null,
      "outputs": [
        {
          "output_type": "execute_result",
          "data": {
            "text/plain": [
              "SelectPercentile(percentile=5,\n",
              "                 score_func=<function f_classif at 0x7f7b435b0c80>)"
            ]
          },
          "metadata": {
            "tags": []
          },
          "execution_count": 86
        }
      ]
    },
    {
      "cell_type": "code",
      "metadata": {
        "colab": {
          "base_uri": "https://localhost:8080/"
        },
        "id": "Kvq-G7PApI9c",
        "outputId": "594b950b-cf46-488b-8ac1-2846bf588320"
      },
      "source": [
        "selector.fit(X_transformed,y3)"
      ],
      "execution_count": null,
      "outputs": [
        {
          "output_type": "stream",
          "text": [
            "/usr/local/lib/python3.6/dist-packages/sklearn/feature_selection/_univariate_selection.py:115: RuntimeWarning: divide by zero encountered in true_divide\n",
            "  f = msb / msw\n"
          ],
          "name": "stderr"
        },
        {
          "output_type": "execute_result",
          "data": {
            "text/plain": [
              "SelectPercentile(percentile=5,\n",
              "                 score_func=<function f_classif at 0x7f7b435b0c80>)"
            ]
          },
          "metadata": {
            "tags": []
          },
          "execution_count": 87
        }
      ]
    },
    {
      "cell_type": "code",
      "metadata": {
        "colab": {
          "base_uri": "https://localhost:8080/"
        },
        "id": "WEHzdZkRpMlI",
        "outputId": "891d5ecd-3913-4f91-fa93-dbadce6291e6"
      },
      "source": [
        "data_transformed = selector.transform(X_transformed).toarray()\r\n",
        "data_transformed"
      ],
      "execution_count": null,
      "outputs": [
        {
          "output_type": "execute_result",
          "data": {
            "text/plain": [
              "array([[0.       , 0.       ],\n",
              "       [0.       , 0.       ],\n",
              "       [0.1653437, 0.1653437]])"
            ]
          },
          "metadata": {
            "tags": []
          },
          "execution_count": 88
        }
      ]
    },
    {
      "cell_type": "code",
      "metadata": {
        "colab": {
          "base_uri": "https://localhost:8080/"
        },
        "id": "aft_Z2LzhQj7",
        "outputId": "f450f9a0-2a4a-4327-c9fc-10546171b94b"
      },
      "source": [
        "m1 = GaussianNB()\r\n",
        "\r\n",
        "m1.fit(data_transformed,y3)"
      ],
      "execution_count": null,
      "outputs": [
        {
          "output_type": "execute_result",
          "data": {
            "text/plain": [
              "GaussianNB(priors=None, var_smoothing=1e-09)"
            ]
          },
          "metadata": {
            "tags": []
          },
          "execution_count": 51
        }
      ]
    },
    {
      "cell_type": "code",
      "metadata": {
        "colab": {
          "base_uri": "https://localhost:8080/"
        },
        "id": "SdJeSvAurknQ",
        "outputId": "0d6d21ac-d63f-4f5c-cc07-be108078b0a2"
      },
      "source": [
        "m1.classes_"
      ],
      "execution_count": null,
      "outputs": [
        {
          "output_type": "execute_result",
          "data": {
            "text/plain": [
              "array(['ham', 'spam'], dtype='<U4')"
            ]
          },
          "metadata": {
            "tags": []
          },
          "execution_count": 52
        }
      ]
    },
    {
      "cell_type": "code",
      "metadata": {
        "colab": {
          "base_uri": "https://localhost:8080/"
        },
        "id": "7tngHMH1rzxY",
        "outputId": "2e41e668-7ada-4248-c708-e09c786b5675"
      },
      "source": [
        "m1.class_count_"
      ],
      "execution_count": null,
      "outputs": [
        {
          "output_type": "execute_result",
          "data": {
            "text/plain": [
              "array([2., 1.])"
            ]
          },
          "metadata": {
            "tags": []
          },
          "execution_count": 53
        }
      ]
    },
    {
      "cell_type": "code",
      "metadata": {
        "colab": {
          "base_uri": "https://localhost:8080/"
        },
        "id": "gMcPPCTpr2Hu",
        "outputId": "e608f1de-580c-457d-972d-3a6d2b89b1b7"
      },
      "source": [
        "m1.class_prior_"
      ],
      "execution_count": null,
      "outputs": [
        {
          "output_type": "execute_result",
          "data": {
            "text/plain": [
              "array([0.66666667, 0.33333333])"
            ]
          },
          "metadata": {
            "tags": []
          },
          "execution_count": 54
        }
      ]
    },
    {
      "cell_type": "code",
      "metadata": {
        "colab": {
          "base_uri": "https://localhost:8080/"
        },
        "id": "KPWrO_H-r6sm",
        "outputId": "dde0eaf6-23ca-4f7f-d07c-0feae7cd3e37"
      },
      "source": [
        "m1.theta_[0], m1.sigma_[0]"
      ],
      "execution_count": null,
      "outputs": [
        {
          "output_type": "execute_result",
          "data": {
            "text/plain": [
              "(array([0., 0.]), array([6.07523089e-12, 6.07523089e-12]))"
            ]
          },
          "metadata": {
            "tags": []
          },
          "execution_count": 55
        }
      ]
    },
    {
      "cell_type": "code",
      "metadata": {
        "colab": {
          "base_uri": "https://localhost:8080/"
        },
        "id": "lflIJ5b7r_jZ",
        "outputId": "65dd9b6d-b9fa-43b7-92a0-16c49341ee5f"
      },
      "source": [
        "m1.theta_[1], m1.sigma_[1]"
      ],
      "execution_count": null,
      "outputs": [
        {
          "output_type": "execute_result",
          "data": {
            "text/plain": [
              "(array([0.1653437, 0.1653437]), array([6.07523089e-12, 6.07523089e-12]))"
            ]
          },
          "metadata": {
            "tags": []
          },
          "execution_count": 56
        }
      ]
    },
    {
      "cell_type": "markdown",
      "metadata": {
        "id": "_hAOBHLUvOBX"
      },
      "source": [
        "# CNN\r\n",
        "\r\n",
        "cnn 이해: https://bcho.tistory.com/tag/%EB%A7%A5%EC%8A%A4%ED%92%80%EB%A7%81\r\n",
        "\r\n",
        "text cnn 논문: http://docs.likejazz.com/cnn-text-classification-tf/\r\n",
        "\r\n",
        "cnn 역전파: https://ratsgo.github.io/deep%20learning/2017/04/05/CNNbackprop/"
      ]
    },
    {
      "cell_type": "code",
      "metadata": {
        "id": "2X88I81hNFzT"
      },
      "source": [
        ""
      ],
      "execution_count": null,
      "outputs": []
    }
  ]
}